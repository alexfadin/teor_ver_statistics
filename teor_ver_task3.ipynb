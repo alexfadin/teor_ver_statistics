{
 "cells": [
  {
   "cell_type": "markdown",
   "metadata": {},
   "source": [
    "**Даны значения зарплат из выборки выпускников: 100, 80, 75, 77, 89, 33, 45, 25, 65, 17, 30, 24, 57, 55, 70, 75, 65, 84, 90, 150. Посчитать (желательно без использования статистических методов наподобие std, var, mean) среднее арифметическое, среднее квадратичное отклонение, смещенную и несмещенную оценки дисперсий для данной выборки.**"
   ]
  },
  {
   "cell_type": "code",
   "execution_count": 103,
   "metadata": {},
   "outputs": [],
   "source": [
    "import numpy as np\n",
    "import pandas as pd\n",
    "\n",
    "\n",
    "def mean_(list_) -> float:\n",
    "    sum_ = 0\n",
    "    for i in list_:\n",
    "        sum_ += i\n",
    "    return sum_/len(list_)\n",
    "\n",
    "def dispers_(list_, ddof=False) -> float: # если ddof true - то дисперсия несмещенная, по умолчанию - смещенная\n",
    "    otklon = 0\n",
    "    ddof = 1 if ddof else 0\n",
    "    for i in list_:\n",
    "        otklon += (i - mean_(list_)) ** 2\n",
    "    return otklon /(len(list_) - ddof)\n",
    "\n",
    "def sigma_(list_):\n",
    "    return dispers_(list_, ddof=False) ** 0.5"
   ]
  },
  {
   "cell_type": "code",
   "execution_count": 104,
   "metadata": {},
   "outputs": [
    {
     "data": {
      "text/html": [
       "<div>\n",
       "<style scoped>\n",
       "    .dataframe tbody tr th:only-of-type {\n",
       "        vertical-align: middle;\n",
       "    }\n",
       "\n",
       "    .dataframe tbody tr th {\n",
       "        vertical-align: top;\n",
       "    }\n",
       "\n",
       "    .dataframe thead th {\n",
       "        text-align: right;\n",
       "    }\n",
       "</style>\n",
       "<table border=\"1\" class=\"dataframe\">\n",
       "  <thead>\n",
       "    <tr style=\"text-align: right;\">\n",
       "      <th></th>\n",
       "      <th>Значение</th>\n",
       "    </tr>\n",
       "  </thead>\n",
       "  <tbody>\n",
       "    <tr>\n",
       "      <th>Среднее арифметическое</th>\n",
       "      <td>65.300000</td>\n",
       "    </tr>\n",
       "    <tr>\n",
       "      <th>Смещенная дисперсия</th>\n",
       "      <td>950.110000</td>\n",
       "    </tr>\n",
       "    <tr>\n",
       "      <th>Несмещенная дисперсия</th>\n",
       "      <td>1000.115789</td>\n",
       "    </tr>\n",
       "    <tr>\n",
       "      <th>Cреднее квадратичное отклонение</th>\n",
       "      <td>30.823854</td>\n",
       "    </tr>\n",
       "  </tbody>\n",
       "</table>\n",
       "</div>"
      ],
      "text/plain": [
       "                                    Значение\n",
       "Среднее арифметическое             65.300000\n",
       "Смещенная дисперсия               950.110000\n",
       "Несмещенная дисперсия            1000.115789\n",
       "Cреднее квадратичное отклонение    30.823854"
      ]
     },
     "execution_count": 104,
     "metadata": {},
     "output_type": "execute_result"
    }
   ],
   "source": [
    "zp = [100, 80, 75, 77, 89, 33, 45, 25, 65, 17, 30, 24, 57, 55, 70, 75, 65, 84, 90, 150]\n",
    "\n",
    "stats ={'Среднее арифметическое':  mean_(zp), \n",
    "        'Смещенная дисперсия':dispers_(zp), \n",
    "        'Несмещенная дисперсия': dispers_(zp, True), \n",
    "        'Cреднее квадратичное отклонение': sigma_(zp)}\n",
    "\n",
    "df = pd.DataFrame(stats, index = ['Значение']).T\n",
    "df"
   ]
  },
  {
   "cell_type": "markdown",
   "metadata": {},
   "source": [
    "***\n",
    "**В первом ящике находится 8 мячей, из которых 5 - белые. Во втором ящике - 12 мячей, из которых 5 белых. Из первого ящика вытаскивают случайным образом два мяча, из второго - 4. Какова вероятность того, что 3 мяча белые?**"
   ]
  },
  {
   "cell_type": "code",
   "execution_count": 124,
   "metadata": {},
   "outputs": [],
   "source": [
    "from math import factorial, exp\n",
    "\n",
    "def cmbs(k, n) -> int:\n",
    "    return int(factorial(n) / (factorial(k) * factorial(n-k)))\n",
    "\n",
    "bin1_total   = 8\n",
    "bin1_white   = 5\n",
    "bin1_black   = bin1_total - bin1_white\n",
    "bin1_take    = 2\n",
    "bin2_total   = 12\n",
    "bin2_white   = 5\n",
    "bin2_black   = bin2_total - bin2_white \n",
    "bin2_take    = 4\n",
    "all_combos1  = cmbs(bin1_take, bin1_total)\n",
    "all_combos2  = cmbs(bin2_take, bin2_total)"
   ]
  },
  {
   "cell_type": "code",
   "execution_count": 227,
   "metadata": {},
   "outputs": [],
   "source": [
    "#из первого два белых\n",
    "p_bin1_2_white = cmbs(bin1_take, bin1_white)/all_combos1\n",
    "\n",
    "# из второго 1 белый и три черных\n",
    "p_bin2_1_white = cmbs(1, bin2_white) * cmbs(3, bin2_black) / all_combos2\n"
   ]
  },
  {
   "cell_type": "code",
   "execution_count": 228,
   "metadata": {
    "scrolled": true
   },
   "outputs": [],
   "source": [
    "#из первого 1 белый 1 черный \n",
    "p_bin1_1_white = cmbs(1, bin1_white) * cmbs(1, bin1_black) / all_combos1\n",
    "\n",
    "#из второго 2 белых 2 черных\n",
    "p_bin2_2_white = cmbs(2, bin2_white)  * cmbs(2, bin2_black) / all_combos2"
   ]
  },
  {
   "cell_type": "code",
   "execution_count": 229,
   "metadata": {},
   "outputs": [],
   "source": [
    "#из первого 0 белых 2 черных \n",
    "p_bin1_0_white = cmbs(0, bin1_white) * cmbs(2, bin1_black) / all_combos1\n",
    "\n",
    "#из второго 1 черный, 3 белых \n",
    "p_bin2_3_white = cmbs(1, bin2_black)  * cmbs(3, bin2_white) / all_combos2\n"
   ]
  },
  {
   "cell_type": "code",
   "execution_count": 128,
   "metadata": {},
   "outputs": [
    {
     "data": {
      "text/plain": [
       "0.3686868686868687"
      ]
     },
     "execution_count": 128,
     "metadata": {},
     "output_type": "execute_result"
    }
   ],
   "source": [
    "p_bin1_2_white * p_bin2_1_white + \\\n",
    "p_bin1_1_white * p_bin2_2_white + \\\n",
    "p_bin1_0_white * p_bin2_3_white"
   ]
  },
  {
   "cell_type": "code",
   "execution_count": 233,
   "metadata": {},
   "outputs": [
    {
     "data": {
      "text/html": [
       "<style  type=\"text/css\" >\n",
       "    #T_a97cce2c_a407_11ea_944e_e03f4913a2c9row0_col0 {\n",
       "            text-align:  left;\n",
       "        }    #T_a97cce2c_a407_11ea_944e_e03f4913a2c9row0_col1 {\n",
       "            text-align:  left;\n",
       "        }    #T_a97cce2c_a407_11ea_944e_e03f4913a2c9row0_col2 {\n",
       "            text-align:  left;\n",
       "        }    #T_a97cce2c_a407_11ea_944e_e03f4913a2c9row1_col0 {\n",
       "            text-align:  left;\n",
       "        }    #T_a97cce2c_a407_11ea_944e_e03f4913a2c9row1_col1 {\n",
       "            text-align:  left;\n",
       "        }    #T_a97cce2c_a407_11ea_944e_e03f4913a2c9row1_col2 {\n",
       "            text-align:  left;\n",
       "        }</style><table id=\"T_a97cce2c_a407_11ea_944e_e03f4913a2c9\" ><thead>    <tr>        <th class=\"blank level0\" ></th>        <th class=\"col_heading level0 col0\" >color1</th>        <th class=\"col_heading level0 col1\" >color2</th>        <th class=\"col_heading level0 col2\" >all_combs_for_takes</th>    </tr></thead><tbody>\n",
       "                <tr>\n",
       "                        <th id=\"T_a97cce2c_a407_11ea_944e_e03f4913a2c9level0_row0\" class=\"row_heading level0 row0\" >bin1</th>\n",
       "                        <td id=\"T_a97cce2c_a407_11ea_944e_e03f4913a2c9row0_col0\" class=\"data row0 col0\" >[1, 5, 10]</td>\n",
       "                        <td id=\"T_a97cce2c_a407_11ea_944e_e03f4913a2c9row0_col1\" class=\"data row0 col1\" >[1, 3, 3]</td>\n",
       "                        <td id=\"T_a97cce2c_a407_11ea_944e_e03f4913a2c9row0_col2\" class=\"data row0 col2\" >28</td>\n",
       "            </tr>\n",
       "            <tr>\n",
       "                        <th id=\"T_a97cce2c_a407_11ea_944e_e03f4913a2c9level0_row1\" class=\"row_heading level0 row1\" >bin2</th>\n",
       "                        <td id=\"T_a97cce2c_a407_11ea_944e_e03f4913a2c9row1_col0\" class=\"data row1 col0\" >[1, 5, 10, 10, 5]</td>\n",
       "                        <td id=\"T_a97cce2c_a407_11ea_944e_e03f4913a2c9row1_col1\" class=\"data row1 col1\" >[1, 7, 21, 35, 35]</td>\n",
       "                        <td id=\"T_a97cce2c_a407_11ea_944e_e03f4913a2c9row1_col2\" class=\"data row1 col2\" >495</td>\n",
       "            </tr>\n",
       "    </tbody></table>"
      ],
      "text/plain": [
       "<pandas.io.formats.style.Styler at 0x1a439c61c08>"
      ]
     },
     "execution_count": 233,
     "metadata": {},
     "output_type": "execute_result"
    }
   ],
   "source": [
    "# еще вариант решения через таблицу всех сочетаний\n",
    "\n",
    "datas_ = {'bin1': {'takes': 2, 'color1' : 5, 'color2': 3},\n",
    "          'bin2': {'takes': 4, 'color1' : 5, 'color2': 7}\n",
    "        }\n",
    "\n",
    "def all_combinations(data_) -> dict:\n",
    "    result = {}\n",
    "    for k, v in data_.items():       \n",
    "        result[str(k)] = {}\n",
    "        result[str(k)]['color1'] = []\n",
    "        result[str(k)]['color2'] = []\n",
    " \n",
    "        result[str(k)]['all_combs_for_takes'] = cmbs(v['takes'], v['color1'] + v['color2'])\n",
    "        for i in range(v['takes'] + 1):    \n",
    "            \n",
    "            result[str(k)]['color1'].append(cmbs(i, v['color1']))\n",
    "            result[str(k)]['color2'].append(cmbs(i, v['color2']))                                                              \n",
    "                                                    \n",
    "    return result\n",
    "\n",
    "df1 = pd.DataFrame(all_combinations(datas_)).T.style.set_properties(**{'text-align': 'left'})\n",
    "df1"
   ]
  },
  {
   "cell_type": "code",
   "execution_count": 223,
   "metadata": {},
   "outputs": [
    {
     "data": {
      "text/plain": [
       "0.3686868686868686"
      ]
     },
     "execution_count": 223,
     "metadata": {},
     "output_type": "execute_result"
    }
   ],
   "source": [
    "# теперь ориентируемся на таблицу\n",
    "# из первого два белых из второго 1 белый и три черных\n",
    "# из первого один белый один черный  из второго 2 белых и 2 черных\n",
    "# из первого ноль белых два черных  из второго 3 белых и 1 черных\n",
    "\n",
    "10*1/28 * 5*35/495 + \\\n",
    "5*3/28 * 10*21/495 + \\\n",
    "1*3/28 * 10*7/495 \n"
   ]
  },
  {
   "cell_type": "markdown",
   "metadata": {},
   "source": [
    "***\n",
    "**На соревновании по биатлону один из трех спортсменов стреляет и попадает в мишень. Вероятность попадания для первого спортсмена равна 0.9, для второго — 0.8, для третьего — 0.6. Найти вероятность того, что выстрел произведен: a). первым спортсменом б). вторым спортсменом в). третьим спортсменом.**"
   ]
  },
  {
   "cell_type": "code",
   "execution_count": 241,
   "metadata": {},
   "outputs": [
    {
     "data": {
      "text/plain": [
       "'вероятность что попал первый: 0.391304347826087, второй: 0.3478260869565218, третий: 0.2608695652173913 '"
      ]
     },
     "execution_count": 241,
     "metadata": {},
     "output_type": "execute_result"
    }
   ],
   "source": [
    "P_A_B1 = 0.9\n",
    "P_A_B2 = 0.8\n",
    "P_A_B3 = 0.6\n",
    "\n",
    "# Будем использовать формулу Байеса\n",
    "P_A = 1/3*0.9 + 1/3*0.8 + 1/3 * 0.6\n",
    "P_B1_A = 1/3 * P_A_B1 / P_A\n",
    "P_B2_A = 1/3 * P_A_B2 / P_A\n",
    "P_B3_A = 1/3 * P_A_B3 / P_A\n",
    "\n",
    "f'вероятность что попал первый: {P_B1_A}, второй: { P_B2_A}, третий: {P_B3_A} '"
   ]
  },
  {
   "cell_type": "markdown",
   "metadata": {},
   "source": [
    "***\n",
    "**В университет на факультеты A и B поступило равное количество студентов, а на факультет C студентов поступило столько же, сколько на A и B вместе. Вероятность того, что студент факультета A сдаст первую сессию, равна 0.8. Для студента факультета B эта вероятность равна 0.7, а для студента факультета C - 0.9. Студент сдал первую сессию. Какова вероятность, что он учится: a). на факультете A б). на факультете B в). на факультете C?**"
   ]
  },
  {
   "cell_type": "code",
   "execution_count": 242,
   "metadata": {},
   "outputs": [
    {
     "data": {
      "text/plain": [
       "'вероятность что факультет первый: 0.24242424242424246, второй: 0.21212121212121213, третий: 0.5454545454545455 '"
      ]
     },
     "execution_count": 242,
     "metadata": {},
     "output_type": "execute_result"
    }
   ],
   "source": [
    "P_A_B1 = 0.8\n",
    "P_A_B2 = 0.7\n",
    "P_A_B3 = 0.9\n",
    "\n",
    "P_B1 = 1/4\n",
    "P_B2 = 1/4\n",
    "P_B3 = 1/2\n",
    "\n",
    "\n",
    "P_A = (P_B1 * P_A_B1) + (P_B2 * P_A_B2) + (P_B3 * P_A_B3)\n",
    "\n",
    "P_B1_A = P_B1 * P_A_B1 / P_A\n",
    "P_B2_A = P_B2 * P_A_B2 / P_A\n",
    "P_B3_A = P_B3 * P_A_B3 / P_A\n",
    "\n",
    "f'вероятность что факультет первый: {P_B1_A}, второй: { P_B2_A}, третий: {P_B3_A} '"
   ]
  },
  {
   "cell_type": "markdown",
   "metadata": {},
   "source": [
    "***\n",
    "**Устройство состоит из трех деталей. Для первой детали вероятность выйти из строя в первый месяц равна 0.1, для второй - 0.2, для третьей - 0.25. Какова вероятность того, что в первый месяц выйдут из строя: а). все детали б). только две детали в). хотя бы одна деталь г). от одной до двух деталей?**"
   ]
  },
  {
   "cell_type": "code",
   "execution_count": 272,
   "metadata": {},
   "outputs": [
    {
     "data": {
      "text/plain": [
       "0.0300525920360631"
      ]
     },
     "execution_count": 272,
     "metadata": {},
     "output_type": "execute_result"
    }
   ],
   "source": [
    "#Дай Бог здоровья создателю такого механизма\n",
    "\n",
    "\n",
    "P_A_B1 = 0.1\n",
    "P_A_B2 = 0.2\n",
    "P_A_B3 = 0.25\n",
    "\n",
    "P_B1 = 1/3\n",
    "P_B2 = 1/3\n",
    "P_B3 = 1/3\n",
    "\n",
    "# Строго одна деталь\n",
    "P_A = (P_B1 * P_A_B1) + (P_B2 * P_A_B2) + (P_B3 * P_A_B3)\n",
    "\n",
    "\n",
    "P_B1_A = P_B1 * P_A_B1 / P_A\n",
    "P_B2_A = P_B2 * P_A_B2 / P_A\n",
    "P_B3_A = P_B3 * P_A_B3 / P_A\n",
    "\n",
    "\n",
    "# а)  все детали:\n",
    "P_all = P_B1_A * P_B2_A * P_B3_A\n",
    "P_all"
   ]
  },
  {
   "cell_type": "code",
   "execution_count": 273,
   "metadata": {},
   "outputs": [
    {
     "data": {
      "text/plain": [
       "0.11515151515151514"
      ]
     },
     "execution_count": 273,
     "metadata": {},
     "output_type": "execute_result"
    }
   ],
   "source": [
    "# б) Две детали\n",
    "P_double = ((P_B1 * P_A_B1) + (P_B2 * P_A_B2)) * (P_B3 * P_A_B3)/P_A +\\\n",
    "           ((P_B2 * P_A_B2) + (P_B3 * P_A_B3)) * (P_B1 * P_A_B1)/P_A +\\\n",
    "           ((P_B3 * P_A_B3) + (P_B1 * P_A_B1)) * (P_B2 * P_A_B2)/P_A\n",
    "P_double"
   ]
  },
  {
   "cell_type": "code",
   "execution_count": 274,
   "metadata": {},
   "outputs": [
    {
     "data": {
      "text/plain": [
       "0.32853744052091155"
      ]
     },
     "execution_count": 274,
     "metadata": {},
     "output_type": "execute_result"
    }
   ],
   "source": [
    "# в) хотя бы одна\n",
    "P_one = P_A + P_double + P_all\n",
    "P_one"
   ]
  },
  {
   "cell_type": "code",
   "execution_count": 276,
   "metadata": {},
   "outputs": [
    {
     "data": {
      "text/plain": [
       "0.29848484848484846"
      ]
     },
     "execution_count": 276,
     "metadata": {},
     "output_type": "execute_result"
    }
   ],
   "source": [
    "# г) Одна или две\n",
    "P_one_or_two = P_A + P_double\n",
    "P_one_or_two"
   ]
  }
 ],
 "metadata": {
  "kernelspec": {
   "display_name": "Python 3",
   "language": "python",
   "name": "python3"
  },
  "language_info": {
   "codemirror_mode": {
    "name": "ipython",
    "version": 3
   },
   "file_extension": ".py",
   "mimetype": "text/x-python",
   "name": "python",
   "nbconvert_exporter": "python",
   "pygments_lexer": "ipython3",
   "version": "3.7.6"
  }
 },
 "nbformat": 4,
 "nbformat_minor": 4
}
