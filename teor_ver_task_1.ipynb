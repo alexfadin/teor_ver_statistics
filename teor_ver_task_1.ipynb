{
 "cells": [
  {
   "cell_type": "code",
   "execution_count": 127,
   "metadata": {},
   "outputs": [],
   "source": [
    "from math import factorial"
   ]
  },
  {
   "cell_type": "markdown",
   "metadata": {},
   "source": [
    "#### Задание 1: Из колоды в 52 карты извлекаются случайным образом 4 карты. ####\n",
    "a) Найти вероятность того, что все карты – крести. б) Найти вероятность, что среди 4-х карт окажется ХОТЯ БЫ один туз.\n",
    "\n",
    "*(Эта задача на сочетания - порядок не важен, участвуют не все)*\n",
    "\n",
    "**Дано:**"
   ]
  },
  {
   "cell_type": "code",
   "execution_count": 128,
   "metadata": {},
   "outputs": [],
   "source": [
    "koloda=52\n",
    "razdacha = 4\n",
    "kresti = 9\n",
    "tuz = 4"
   ]
  },
  {
   "cell_type": "code",
   "execution_count": 129,
   "metadata": {},
   "outputs": [],
   "source": [
    "# Сочетания\n",
    "def combinations(n, k): \n",
    "    return int(factorial(n)/(factorial(k) * factorial(n-k)))"
   ]
  },
  {
   "cell_type": "markdown",
   "metadata": {},
   "source": [
    "#### a) Найти вероятность того, что все карты – крести.####\n",
    "\n",
    "\n",
    "Разделим все возможные сочетания крести  враздаче и поделим на все возможные сочетания карт в раздаче, умножим на 100 и округлим до 4 знаков после запятой"
   ]
  },
  {
   "cell_type": "code",
   "execution_count": 119,
   "metadata": {},
   "outputs": [
    {
     "data": {
      "text/plain": [
       "0.0465"
      ]
     },
     "execution_count": 119,
     "metadata": {},
     "output_type": "execute_result"
    }
   ],
   "source": [
    "round(combinations(kresti, razdacha)/combinations(koloda, razdacha) * 100, 4)"
   ]
  },
  {
   "cell_type": "markdown",
   "metadata": {},
   "source": [
    "#### б) Найти вероятность, что среди 4-х карт окажется ХОТЯ БЫ один туз. ####\n",
    "\n",
    "Найдем все возможные сочетания с тузами"
   ]
  },
  {
   "cell_type": "code",
   "execution_count": 120,
   "metadata": {},
   "outputs": [
    {
     "name": "stdout",
     "output_type": "stream",
     "text": [
      "69184\n",
      "6768\n",
      "192\n",
      "1\n"
     ]
    }
   ],
   "source": [
    "tuz_1 = combinations(tuz,1) * combinations(koloda - tuz, razdacha - 1)\n",
    "tuz_2 = combinations(tuz,2) * combinations(koloda - tuz, razdacha - 2)\n",
    "tuz_3 = combinations(tuz,3) * combinations(koloda - tuz, razdacha - 3)\n",
    "tuz_4 = combinations(tuz,4) * combinations(koloda - tuz, razdacha - 4)\n",
    "\n",
    "for combs in [tuz_1, tuz_2, tuz_3, tuz_4]:\n",
    "    print(combs)\n"
   ]
  },
  {
   "cell_type": "markdown",
   "metadata": {},
   "source": [
    "Сложим все сочетания с тузами в раздаче и разделим на все возможные сочетания карт в раздаче умножим на 100 и округлим до 4 знаков после запятой\n"
   ]
  },
  {
   "cell_type": "code",
   "execution_count": 121,
   "metadata": {},
   "outputs": [
    {
     "data": {
      "text/plain": [
       "28.1263"
      ]
     },
     "execution_count": 121,
     "metadata": {},
     "output_type": "execute_result"
    }
   ],
   "source": [
    "round((tuz_1 + tuz_2 + tuz_3 + tuz_4)/(combinations(koloda, razdacha)) * 100, 4)"
   ]
  },
  {
   "cell_type": "markdown",
   "metadata": {},
   "source": [
    "\n",
    "#### Задание 2: На входной двери подъезда установлен кодовый замок, содержащий десять кнопок с цифрами от 0 до 9. ####\n",
    "Код содержит три цифры, которые нужно нажать **одновременно**. Какова вероятность того, что человек, не знающий код, откроет дверь с первой попытки?\n",
    "\n",
    "*(Т.к. нажать надо одновременно(т.е. в любом порядке), то это задача на сочетание - порядок неважен, участвуют не все)*\n"
   ]
  },
  {
   "cell_type": "code",
   "execution_count": 122,
   "metadata": {},
   "outputs": [
    {
     "data": {
      "text/plain": [
       "0.8333"
      ]
     },
     "execution_count": 122,
     "metadata": {},
     "output_type": "execute_result"
    }
   ],
   "source": [
    "figures = 10\n",
    "code = 3\n",
    "\n",
    "# чтобы получить вероятность, разделим 1 на все возможные сочетания кодов и умножим на 100 и округлим до 4 знаков после запятой\n",
    "\n",
    "round(1 / combinations(figures, code) * 100, 4)"
   ]
  },
  {
   "cell_type": "markdown",
   "metadata": {},
   "source": [
    "#### Задание 3: В ящике имеется 15 деталей, из которых 9 окрашены.####\n",
    "\n",
    "Рабочий случайным образом извлекает 3 детали. Какова вероятность того, что все извлеченные детали окрашены?\n",
    "\n",
    "*(задача на зависимые события, т.к. вытаскивание первой детали меняет вероятности для оставшихся деталей и т.д.)*"
   ]
  },
  {
   "cell_type": "code",
   "execution_count": 125,
   "metadata": {},
   "outputs": [
    {
     "data": {
      "text/plain": [
       "18.4615"
      ]
     },
     "execution_count": 125,
     "metadata": {},
     "output_type": "execute_result"
    }
   ],
   "source": [
    "total = 15\n",
    "painted = 9\n",
    "\n",
    "p1 = painted/total\n",
    "p2 = p1 * (painted - 1)/(total - 1)\n",
    "p3 = p2 * (painted - 2)/(total - 2)\n",
    "\n",
    "#умножим вероятность на 100 и округлим до 4 знаков\n",
    "round(p3 * 100, 4)\n"
   ]
  },
  {
   "cell_type": "markdown",
   "metadata": {},
   "source": [
    "#### Задание 4: В лотерее 100 билетов. Из них 2 выигрышных. #### \n",
    "Какова вероятность того, что 2 приобретенных билета окажутся выигрышными?\n",
    "\n",
    "*(Поскольку это совместные события (существует возможность вытащить 2 выигрышных билета), то вероятности перемножаются)*\n",
    "\n"
   ]
  },
  {
   "cell_type": "code",
   "execution_count": 124,
   "metadata": {},
   "outputs": [
    {
     "data": {
      "text/plain": [
       "0.04"
      ]
     },
     "execution_count": 124,
     "metadata": {},
     "output_type": "execute_result"
    }
   ],
   "source": [
    "probability_each = 2/100\n",
    "probability_togetger = probability_each * probability_each * 100\n",
    "\n",
    "probability_2\n"
   ]
  }
 ],
 "metadata": {
  "kernelspec": {
   "display_name": "Python 3",
   "language": "python",
   "name": "python3"
  },
  "language_info": {
   "codemirror_mode": {
    "name": "ipython",
    "version": 3
   },
   "file_extension": ".py",
   "mimetype": "text/x-python",
   "name": "python",
   "nbconvert_exporter": "python",
   "pygments_lexer": "ipython3",
   "version": "3.7.6"
  }
 },
 "nbformat": 4,
 "nbformat_minor": 4
}
